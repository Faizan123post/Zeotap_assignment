{
 "cells": [
  {
   "cell_type": "code",
   "execution_count": 1,
   "metadata": {},
   "outputs": [
    {
     "name": "stderr",
     "output_type": "stream",
     "text": [
      "C:\\Users\\Faizan Ahmad\\AppData\\Local\\Temp\\ipykernel_13824\\1620173721.py:2: DeprecationWarning: \n",
      "Pyarrow will become a required dependency of pandas in the next major release of pandas (pandas 3.0),\n",
      "(to allow more performant data types, such as the Arrow string type, and better interoperability with other libraries)\n",
      "but was not found to be installed on your system.\n",
      "If this would cause problems for you,\n",
      "please provide us feedback at https://github.com/pandas-dev/pandas/issues/54466\n",
      "        \n",
      "  import pandas as pd\n"
     ]
    }
   ],
   "source": [
    "# Import necessary libraries\n",
    "import pandas as pd\n",
    "from sklearn.metrics.pairwise import cosine_similarity\n",
    "from sklearn.preprocessing import StandardScaler\n",
    "\n",
    "\n",
    "\n"
   ]
  },
  {
   "cell_type": "code",
   "execution_count": 3,
   "metadata": {},
   "outputs": [],
   "source": [
    "# Load the datasets\n",
    "customers = pd.read_csv('Customers.csv')\n",
    "products = pd.read_csv('Products.csv')\n",
    "transactions = pd.read_csv('Transactions.csv')\n",
    "\n"
   ]
  },
  {
   "cell_type": "code",
   "execution_count": 4,
   "metadata": {},
   "outputs": [],
   "source": [
    "# Clean column names (fix malformed ones if needed)\n",
    "customers.columns = ['CustomerID', 'CustomerName', 'Region', 'SignupDate']\n",
    "products.columns = ['ProductID', 'ProductName', 'Category', 'Price']\n",
    "transactions.columns = ['TransactionID', 'CustomerID', 'ProductID', 'TransactionDate', 'Quantity', 'TotalValue', 'Price']\n",
    "\n"
   ]
  },
  {
   "cell_type": "code",
   "execution_count": 5,
   "metadata": {},
   "outputs": [],
   "source": [
    "# Merge datasets\n",
    "data = transactions.merge(customers, on=\"CustomerID\").merge(products, on=\"ProductID\")\n",
    "\n"
   ]
  },
  {
   "cell_type": "code",
   "execution_count": 6,
   "metadata": {},
   "outputs": [],
   "source": [
    "# Create aggregated features for each customer\n",
    "customer_features = data.groupby('CustomerID').agg({\n",
    "    'TotalValue': 'sum',\n",
    "    'TransactionID': 'count',\n",
    "    'Category': pd.Series.nunique,\n",
    "    'ProductID': pd.Series.nunique,\n",
    "    'Quantity': 'sum'\n",
    "}).reset_index()\n",
    "\n"
   ]
  },
  {
   "cell_type": "code",
   "execution_count": 7,
   "metadata": {},
   "outputs": [],
   "source": [
    "# Rename columns for clarity\n",
    "customer_features.columns = [\n",
    "    'CustomerID', 'TotalSpending', 'TotalTransactions', \n",
    "    'UniqueCategoriesPurchased', 'UniqueProductsPurchased', 'TotalQuantityPurchased'\n",
    "]\n",
    "\n",
    "\n"
   ]
  },
  {
   "cell_type": "code",
   "execution_count": 8,
   "metadata": {},
   "outputs": [],
   "source": [
    "# Normalize the data\n",
    "scaler = StandardScaler()\n",
    "scaled_features = scaler.fit_transform(customer_features.iloc[:, 1:])\n",
    "\n",
    "\n"
   ]
  },
  {
   "cell_type": "code",
   "execution_count": 9,
   "metadata": {},
   "outputs": [],
   "source": [
    "# Calculate cosine similarity\n",
    "similarity = cosine_similarity(scaled_features)\n",
    "\n"
   ]
  },
  {
   "cell_type": "code",
   "execution_count": 10,
   "metadata": {},
   "outputs": [],
   "source": [
    "# Function to find top N similar customers\n",
    "def find_similar_customers(customer_id, top_n=3):\n",
    "    idx = customer_features[customer_features['CustomerID'] == customer_id].index[0]\n",
    "    scores = list(enumerate(similarity[idx]))\n",
    "    scores = sorted(scores, key=lambda x: x[1], reverse=True)[1:top_n+1]  # Exclude self\n",
    "    return [(customer_features.iloc[i[0]]['CustomerID'], round(i[1], 4)) for i in scores]\n",
    "\n"
   ]
  },
  {
   "cell_type": "code",
   "execution_count": 12,
   "metadata": {},
   "outputs": [],
   "source": [
    "# Generate lookalike results for the first 20 customers\n",
    "lookalikes = {customer_id: find_similar_customers(customer_id) \n",
    "              for customer_id in customer_features['CustomerID'][:20]}"
   ]
  },
  {
   "cell_type": "code",
   "execution_count": 13,
   "metadata": {},
   "outputs": [
    {
     "name": "stdout",
     "output_type": "stream",
     "text": [
      "{'C0001': [('C0056', 0.9381), ('C0164', 0.9299), ('C0189', 0.9024)], 'C0002': [('C0199', 0.9932), ('C0142', 0.9886), ('C0010', 0.9741)], 'C0003': [('C0027', 0.9139), ('C0166', 0.8256), ('C0129', 0.7775)], 'C0004': [('C0124', 0.9907), ('C0195', 0.9886), ('C0156', 0.9882)], 'C0005': [('C0131', 0.9997), ('C0058', 0.9994), ('C0150', 0.9987)], 'C0006': [('C0079', 0.9999), ('C0196', 0.9508), ('C0026', 0.8809)], 'C0007': [('C0080', 0.9959), ('C0078', 0.9957), ('C0020', 0.9949)], 'C0008': [('C0162', 0.9629), ('C0093', 0.9611), ('C0017', 0.9568)], 'C0009': [('C0083', 0.9967), ('C0198', 0.9812), ('C0071', 0.977)], 'C0010': [('C0142', 0.9774), ('C0002', 0.9741), ('C0199', 0.9413)], 'C0011': [('C0170', 0.9687), ('C0200', 0.9476), ('C0114', 0.9433)], 'C0012': [('C0101', 0.9847), ('C0087', 0.9767), ('C0156', 0.9725)], 'C0013': [('C0099', 0.9963), ('C0105', 0.9953), ('C0155', 0.9913)], 'C0014': [('C0033', 0.9998), ('C0060', 0.9996), ('C0150', 0.9995)], 'C0015': [('C0123', 0.9991), ('C0095', 0.9988), ('C0198', 0.9987)], 'C0016': [('C0152', 0.8637), ('C0107', 0.8599), ('C0183', 0.8323)], 'C0017': [('C0162', 0.9985), ('C0113', 0.9841), ('C0175', 0.9825)], 'C0018': [('C0148', 0.9789), ('C0149', 0.9639), ('C0138', 0.8879)], 'C0019': [('C0069', 0.8237), ('C0038', 0.8227), ('C0191', 0.8194)], 'C0020': [('C0080', 0.9999), ('C0110', 0.9993), ('C0078', 0.9992)]}\n"
     ]
    }
   ],
   "source": [
    "print(lookalikes);\n"
   ]
  },
  {
   "cell_type": "code",
   "execution_count": 14,
   "metadata": {},
   "outputs": [
    {
     "ename": "AttributeError",
     "evalue": "'dict' object has no attribute 'describe'",
     "output_type": "error",
     "traceback": [
      "\u001b[1;31m---------------------------------------------------------------------------\u001b[0m",
      "\u001b[1;31mAttributeError\u001b[0m                            Traceback (most recent call last)",
      "Cell \u001b[1;32mIn[14], line 1\u001b[0m\n\u001b[1;32m----> 1\u001b[0m \u001b[38;5;28mprint\u001b[39m(\u001b[43mlookalikes\u001b[49m\u001b[38;5;241;43m.\u001b[39;49m\u001b[43mdescribe\u001b[49m());\n",
      "\u001b[1;31mAttributeError\u001b[0m: 'dict' object has no attribute 'describe'"
     ]
    }
   ],
   "source": []
  }
 ],
 "metadata": {
  "kernelspec": {
   "display_name": "Python 3",
   "language": "python",
   "name": "python3"
  },
  "language_info": {
   "codemirror_mode": {
    "name": "ipython",
    "version": 3
   },
   "file_extension": ".py",
   "mimetype": "text/x-python",
   "name": "python",
   "nbconvert_exporter": "python",
   "pygments_lexer": "ipython3",
   "version": "3.12.3"
  }
 },
 "nbformat": 4,
 "nbformat_minor": 2
}
